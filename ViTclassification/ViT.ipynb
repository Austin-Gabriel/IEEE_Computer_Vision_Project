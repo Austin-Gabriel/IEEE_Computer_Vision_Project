{
 "cells": [
  {
   "cell_type": "code",
   "execution_count": 2,
   "id": "108d11c8-ba44-4d87-b514-9f7de4be9cf9",
   "metadata": {},
   "outputs": [
    {
     "data": {
      "text/plain": [
       "'C:\\\\Users\\\\Blessing Austin\\\\OneDrive - montclair.edu\\\\Desktop\\\\MSU\\\\SETUP\\\\ViTclassification'"
      ]
     },
     "execution_count": 2,
     "metadata": {},
     "output_type": "execute_result"
    }
   ],
   "source": [
    "import os\n",
    "os.getcwd()\n",
    "\n",
    "os.environ[\"KERAS_BACKEND\"] = 'Jax'\n",
    "\n",
    "import Keras\n",
    "from Keras import layers\n",
    "from Keras import ops\n",
    "\n",
    "import numpy as np\n",
    "import mathplotlib.pyplot as plt"
   ]
  },
  {
   "cell_type": "code",
   "execution_count": null,
   "id": "5351a6ea-984a-4801-95b3-c3e8088d485c",
   "metadata": {},
   "outputs": [],
   "source": []
  }
 ],
 "metadata": {
  "kernelspec": {
   "display_name": "Python 3 (ipykernel)",
   "language": "python",
   "name": "python3"
  },
  "language_info": {
   "codemirror_mode": {
    "name": "ipython",
    "version": 3
   },
   "file_extension": ".py",
   "mimetype": "text/x-python",
   "name": "python",
   "nbconvert_exporter": "python",
   "pygments_lexer": "ipython3",
   "version": "3.11.7"
  }
 },
 "nbformat": 4,
 "nbformat_minor": 5
}
